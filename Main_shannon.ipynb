{
 "cells": [
  {
   "cell_type": "code",
   "execution_count": null,
   "id": "058d745d",
   "metadata": {},
   "outputs": [],
   "source": [
    "import pandas as pd\n",
    "import numpy as np"
   ]
  },
  {
   "cell_type": "markdown",
   "id": "2186eef0",
   "metadata": {},
   "source": [
    "# Data Cleaning"
   ]
  },
  {
   "cell_type": "code",
   "execution_count": null,
   "id": "8d9edabe",
   "metadata": {},
   "outputs": [],
   "source": [
    "# Import four regions housing data\n",
    "AlexHouses = pd.read_csv(\"https://raw.githubusercontent.com/Johnle3/MLHousingPrices/main/AlexandriaHomes.csv\")\n",
    "ArlingHouses = pd.read_csv(\"https://raw.githubusercontent.com/Johnle3/MLHousingPrices/main/ArlingtonHomes.csv\")\n",
    "SpringHouses = pd.read_csv(\"https://raw.githubusercontent.com/Johnle3/MLHousingPrices/main/SpringfieldHomes.csv\")\n",
    "BurkeHouses = pd.read_csv(\"https://raw.githubusercontent.com/Johnle3/MLHousingPrices/main/BurkeHomes.csv\")\n",
    "\n",
    "#subsetting cities before merge\n",
    "AlexHouses = AlexHouses[AlexHouses['CITY'] == 'Alexandria']\n",
    "ArlingHouses = ArlingHouses[ArlingHouses['CITY'] == 'Arlington']\n",
    "SpringHouses = SpringHouses[SpringHouses['CITY'] == 'Springfield']\n",
    "BurkeHouses = BurkeHouses[BurkeHouses['CITY']== 'Burke']\n",
    "\n",
    "frames = [AlexHouses, ArlingHouses, SpringHouses, BurkeHouses]\n",
    "# Merge datasets\n",
    "houses1 = pd.concat(frames)"
   ]
  },
  {
   "cell_type": "code",
   "execution_count": null,
   "id": "4e64493f",
   "metadata": {},
   "outputs": [],
   "source": [
    "# Remove unnecessary columns\n",
    "houses = houses1.drop(['SALE TYPE', 'SOLD DATE','ADDRESS','HOA/MONTH', 'FAVORITE', 'NEXT OPEN HOUSE START TIME','NEXT OPEN HOUSE END TIME','INTERESTED','URL (SEE https://www.redfin.com/buy-a-home/comparative-market-analysis FOR INFO ON PRICING)','SOURCE', 'MLS#','STATUS','LOCATION','DAYS ON MARKET'], axis = 1)\n",
    "\n",
    "# Subset to only single homes and townhouses\n",
    "houses = houses[houses['PROPERTY TYPE'] != \"Vacant Land\"]\n",
    "houses = houses[houses['PROPERTY TYPE'] != \"Condo/Co-op\"]\n",
    "houses = houses[houses['PROPERTY TYPE'] != \"Multi-Family (2-4 Unit)\"]\n"
   ]
  },
  {
   "cell_type": "markdown",
   "id": "0318311b",
   "metadata": {},
   "source": [
    "# EDA"
   ]
  },
  {
   "cell_type": "code",
   "execution_count": null,
   "id": "1ed73735",
   "metadata": {},
   "outputs": [],
   "source": [
    "#Null values: must be removed before ML\n",
    "houses.isna().sum()"
   ]
  },
  {
   "cell_type": "code",
   "execution_count": null,
   "id": "700f65af",
   "metadata": {},
   "outputs": [],
   "source": [
    "# Create categorical buckets for \"Year Built\"\n",
    "i = len(houses.index)\n",
    "j = 0\n",
    "while j < i:\n",
    "    year = houses.iloc[j, 9]\n",
    "    \n",
    "    if 1700 <= year < 1900:\n",
    "        houses.iloc[j, 9] = \"Pre-1900s\"\n",
    "    elif 1900 <= year < 1950:\n",
    "        houses.iloc[j, 9] = '1900-1950'\n",
    "    elif 1950 <= year < 2000:\n",
    "        houses.iloc[j, 9] = '1950-2000'\n",
    "    elif 2000 <= year <= 2023:\n",
    "        houses.iloc[j, 9] = '2000-2023'\n",
    "    else:\n",
    "        pass\n",
    "    j = j + 1"
   ]
  },
  {
   "cell_type": "code",
   "execution_count": null,
   "id": "715e894c",
   "metadata": {},
   "outputs": [],
   "source": [
    "# Remove rows with null Year Built values -- 5 houses\n",
    "houses = houses[houses[\"YEAR BUILT\"].notna()]"
   ]
  },
  {
   "cell_type": "code",
   "execution_count": null,
   "id": "715c9e0f",
   "metadata": {},
   "outputs": [],
   "source": [
    "#houses.to_csv(\"/Users/shannontran/Desktop/Launch/houses.csv\")"
   ]
  },
  {
   "cell_type": "code",
   "execution_count": null,
   "id": "efb990c7",
   "metadata": {},
   "outputs": [],
   "source": [
    "houses['PROPERTY TYPE'].value_counts() # --> dummy vars"
   ]
  },
  {
   "cell_type": "code",
   "execution_count": null,
   "id": "b3872730",
   "metadata": {},
   "outputs": [],
   "source": [
    "# Most expensive house\n",
    "houses[houses['PRICE'] == houses['PRICE'].max()]"
   ]
  },
  {
   "cell_type": "code",
   "execution_count": null,
   "id": "03bfc8ed",
   "metadata": {},
   "outputs": [],
   "source": [
    "# Most affordable houses\n",
    "houses[houses['PRICE'] == houses['PRICE'].min()]"
   ]
  },
  {
   "cell_type": "code",
   "execution_count": null,
   "id": "f78821d6",
   "metadata": {},
   "outputs": [],
   "source": [
    "# Distribution of property types\n",
    "import matplotlib.pyplot as plt\n",
    "prop_types = [houses['PROPERTY TYPE'].value_counts()[0], houses['PROPERTY TYPE'].value_counts()[1]]\n",
    "#prop_types\n",
    "\n",
    "houses['PROPERTY TYPE'].unique()\n",
    "\n",
    "fig, ax = plt.subplots()\n",
    "ax.bar(houses['PROPERTY TYPE'].unique(), height = prop_types)"
   ]
  },
  {
   "cell_type": "code",
   "execution_count": null,
   "id": "534e9e34",
   "metadata": {},
   "outputs": [],
   "source": [
    "# Distribution of cities\n",
    "city_types = [houses['CITY'].value_counts()[0], houses['CITY'].value_counts()[1], houses['CITY'].value_counts()[2], houses['CITY'].value_counts()[3]]\n",
    "fig, ax = plt.subplots()\n",
    "ax.bar(houses['CITY'].unique(), height = city_types)"
   ]
  },
  {
   "cell_type": "markdown",
   "id": "862dd076",
   "metadata": {},
   "source": [
    "# Machine Learning: Regression"
   ]
  },
  {
   "cell_type": "code",
   "execution_count": null,
   "id": "95b4632d",
   "metadata": {},
   "outputs": [],
   "source": [
    "# Define variables\n",
    "y = houses['PRICE']\n",
    "X = houses[['PROPERTY TYPE', 'CITY','BEDS','BATHS','SQUARE FEET','LOT SIZE','YEAR BUILT']]    \n"
   ]
  },
  {
   "cell_type": "code",
   "execution_count": null,
   "id": "371bfc10",
   "metadata": {},
   "outputs": [],
   "source": [
    "from sklearn.model_selection import train_test_split\n",
    "\n",
    "# Split data into train group and test group\n",
    "X_train, X_test, y_train, y_test = train_test_split(X, y, test_size=0.2, random_state =18) #random state not needed\n",
    "X_columns = X_train.columns"
   ]
  },
  {
   "cell_type": "code",
   "execution_count": null,
   "id": "f3baca05",
   "metadata": {},
   "outputs": [],
   "source": [
    "# Encode categoricals\n",
    "from sklearn.compose import make_column_transformer #allows tranformaation of columns based on given functions\n",
    "from sklearn.preprocessing import OneHotEncoder #encoding into dummys\n",
    "\n",
    "column_trans = make_column_transformer((OneHotEncoder(), [0, 1, 6]), remainder='passthrough')\n",
    "\n",
    "# Now all numerical data\n",
    "X_train = column_trans.fit_transform(X_train) #fit\n",
    "X_test = column_trans.transform(X_test)"
   ]
  },
  {
   "cell_type": "code",
   "execution_count": null,
   "id": "11324055",
   "metadata": {
    "scrolled": true
   },
   "outputs": [],
   "source": [
    "# Impute nulls in Lot Size using KNN\n",
    "from sklearn.impute import KNNImputer\n",
    "\n",
    "imputer = KNNImputer(n_neighbors = 5)\n",
    "\n",
    "X_train = imputer.fit_transform(X_train)\n",
    "X_test = imputer.transform(X_test)"
   ]
  },
  {
   "cell_type": "code",
   "execution_count": null,
   "id": "330f3e45",
   "metadata": {},
   "outputs": [],
   "source": [
    "# Scaling values\n",
    "from sklearn.preprocessing import StandardScaler\n",
    "scaler = StandardScaler() #create scaler object\n",
    "\n",
    "X_train = scaler.fit_transform(X_train)\n",
    "X_test = scaler.transform(X_test)\n",
    "\n",
    "#now all standardized values"
   ]
  },
  {
   "cell_type": "code",
   "execution_count": null,
   "id": "05cf8c90",
   "metadata": {
    "scrolled": true
   },
   "outputs": [],
   "source": [
    "# T-tests for significance\n",
    "import statsmodels.api as sm\n",
    "\n",
    "X_train_1 = sm.add_constant(X_train)\n",
    "model = sm.OLS(y_train, X_train_1).fit()\n",
    "print(model.summary())"
   ]
  },
  {
   "cell_type": "code",
   "execution_count": null,
   "id": "10a7df4b",
   "metadata": {},
   "outputs": [],
   "source": [
    "# drop insignificant variables\n",
    "X_train_drop = pd.DataFrame(X_train)\n",
    "X_train_drop = X_train_drop.drop(columns = [0, 1, 2, 6, 10, 13])\n",
    "X_train_drop.shape\n",
    "X_train_drop_array = np.asarray(df)"
   ]
  },
  {
   "cell_type": "code",
   "execution_count": null,
   "id": "992f8aa3",
   "metadata": {},
   "outputs": [],
   "source": [
    "# Regression output for reduced model -- Adj-R2 increased slightly\n",
    "X_train_drop = sm.add_constant(X_train_drop)\n",
    "model = sm.OLS(y_train, X_train_drop_array).fit()\n",
    "print(model.summary())"
   ]
  },
  {
   "cell_type": "markdown",
   "id": "7d9bafc4",
   "metadata": {},
   "source": [
    "## Regression function"
   ]
  },
  {
   "cell_type": "code",
   "execution_count": null,
   "id": "0fe831f4",
   "metadata": {},
   "outputs": [],
   "source": [
    "from sklearn import linear_model\n",
    "from sklearn import svm"
   ]
  },
  {
   "cell_type": "code",
   "execution_count": null,
   "id": "e5c3722d",
   "metadata": {},
   "outputs": [],
   "source": [
    "# Function that performs regression ML and outputs regression equation and R2\n",
    "\n",
    "def ml_function(model): \n",
    "    if model == \"lasso\":\n",
    "        clf = linear_model.Lasso(alpha = 0.2, max_iter = 10000) \n",
    "    elif model == \"ridge\":\n",
    "        clf = linear_model.Ridge(alpha = 0.5, max_iter = 10000) \n",
    "    elif model == \"elastic_net\":\n",
    "        clf = linear_model.ElasticNet(alpha = 0.5, l1_ratio = 0.5, max_iter = 10000)\n",
    "    elif model == \"linear_regression\":\n",
    "        clf = linear_model.LinearRegression() \n",
    "    clf.fit(X_train_drop, y_train)\n",
    "    print(model + \" \" + \"Coefficients:   \" + str(clf.coef_) + \"\\n\")\n",
    "    print(model + \" \" + \"Intercept:   \" + str(clf.intercept_) + \"\\n\")\n",
    "    #y_predict = clf.predict(X_test)\n",
    "    #y_true = y_test\n",
    "    #print(model + \" \" + \"R2: \" + str(r2_score(y_true, y_predict)))\n",
    "    print(model + \" \" + \"R2: \" + str(clf.fit(X_train_drop, y_train).score(X_train_drop, y_train)))\n",
    "    "
   ]
  },
  {
   "cell_type": "code",
   "execution_count": null,
   "id": "ce756f48",
   "metadata": {},
   "outputs": [],
   "source": [
    "ml_function(\"lasso\")"
   ]
  },
  {
   "cell_type": "markdown",
   "id": "49686d6a",
   "metadata": {},
   "source": [
    "# Predicting single house price using test group"
   ]
  },
  {
   "cell_type": "code",
   "execution_count": null,
   "id": "3ddef3f4",
   "metadata": {},
   "outputs": [],
   "source": [
    "X_test_drop = pd.DataFrame(X_test)\n",
    "X_test_drop\n",
    "X_test_drop = X_test_drop.drop(columns = [0, 1, 2, 6, 10, 13])\n",
    "#X_test_drop = np.asarray(df)"
   ]
  },
  {
   "cell_type": "code",
   "execution_count": null,
   "id": "1d35e7e9",
   "metadata": {},
   "outputs": [],
   "source": [
    "clf = linear_model.Lasso(alpha = 0.2, max_iter = 10000)\n",
    "clf.fit(X_train_drop_array, y_train)\n",
    "y_predict = clf.predict(X_test_drop)\n",
    "\n",
    "y_predict[4]"
   ]
  },
  {
   "cell_type": "code",
   "execution_count": null,
   "id": "14664834",
   "metadata": {},
   "outputs": [],
   "source": [
    "np.asarray(y_test)[4]"
   ]
  },
  {
   "cell_type": "markdown",
   "id": "fab18a17",
   "metadata": {},
   "source": [
    "## Difference in R2 when alpha changes?.... no"
   ]
  },
  {
   "cell_type": "code",
   "execution_count": null,
   "id": "e3b37c6b",
   "metadata": {
    "scrolled": true
   },
   "outputs": [],
   "source": [
    "# R2 at different alphas\n",
    "moving_alpha = .05\n",
    "while moving_alpha < 1:\n",
    "    clf_lasso = linear_model.Lasso(alpha = moving_alpha, max_iter = 100000) #What alpha do\n",
    "    clf_lasso.fit(X_train, y_train)\n",
    "    y_predict = clf_lasso.predict(X_test)\n",
    "    score = r2_score(y_true, y_predict)\n",
    "    print(\"alpha value: \" + str(moving_alpha) + \" / r2 score: \" + str(score))\n",
    "    moving_alpha += .05"
   ]
  }
 ],
 "metadata": {
  "kernelspec": {
   "display_name": "Python 3 (ipykernel)",
   "language": "python",
   "name": "python3"
  },
  "language_info": {
   "codemirror_mode": {
    "name": "ipython",
    "version": 3
   },
   "file_extension": ".py",
   "mimetype": "text/x-python",
   "name": "python",
   "nbconvert_exporter": "python",
   "pygments_lexer": "ipython3",
   "version": "3.9.7"
  }
 },
 "nbformat": 4,
 "nbformat_minor": 5
}
